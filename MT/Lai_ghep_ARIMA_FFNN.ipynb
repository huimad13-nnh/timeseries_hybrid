{
 "cells": [
  {
   "cell_type": "code",
   "execution_count": 1,
   "metadata": {},
   "outputs": [],
   "source": [
    "import pandas as pd\n",
    "import numpy as np\n",
    "import pmdarima as pm\n",
    "import matplotlib.pyplot as plt\n",
    "from statsmodels.tsa.arima.model import ARIMA\n",
    "from sklearn.preprocessing import MinMaxScaler\n",
    "from sklearn.metrics import mean_squared_error, mean_absolute_error, r2_score\n",
    "\n",
    "import tensorflow as tf\n",
    "import keras\n",
    "from keras import layers\n",
    "from keras import models\n",
    "from keras import utils\n",
    "from keras.layers import Dense\n",
    "from keras.models import Sequential\n",
    "from keras.layers import Flatten\n",
    "from keras.layers import Dropout\n",
    "from keras.layers import Activation\n",
    "from keras.regularizers import l2\n",
    "from keras.optimizers import SGD\n",
    "from keras.optimizers import RMSprop\n",
    "from keras import datasets\n",
    "\n",
    "from keras.callbacks import LearningRateScheduler\n",
    "from keras.callbacks import History\n",
    "\n",
    "from keras import losses\n",
    "from sklearn.utils import shuffle\n",
    "from scikeras.wrappers import KerasRegressor\n",
    "from tensorflow.keras.models import Sequential\n",
    "from tensorflow.keras.layers import Dense\n",
    "from tensorflow.keras.optimizers import Adam\n",
    "from sklearn.model_selection import GridSearchCV\n",
    "from tensorflow.keras.layers import Input"
   ]
  },
  {
   "cell_type": "markdown",
   "metadata": {},
   "source": [
    "# Đọc và tiền xử lý dữ liệu"
   ]
  },
  {
   "cell_type": "code",
   "execution_count": 2,
   "metadata": {},
   "outputs": [
    {
     "name": "stdout",
     "output_type": "stream",
     "text": [
      "       Date          SPX        GLD        USO     SLV   EUR/USD\n",
      "0  1/2/2008  1447.160034  84.860001  78.470001  15.180  1.471692\n",
      "1  1/3/2008  1447.160034  85.570000  78.370003  15.285  1.474491\n",
      "2  1/4/2008  1411.630005  85.129997  77.309998  15.167  1.475492\n",
      "3  1/7/2008  1416.180054  84.769997  75.500000  15.053  1.468299\n",
      "4  1/8/2008  1390.189941  86.779999  76.059998  15.590  1.557099\n"
     ]
    }
   ],
   "source": [
    "# Load the dataset\n",
    "data = pd.read_csv('gld_price_data.csv')\n",
    "print(data.head())"
   ]
  },
  {
   "cell_type": "code",
   "execution_count": 3,
   "metadata": {},
   "outputs": [
    {
     "name": "stdout",
     "output_type": "stream",
     "text": [
      "        Date        GLD\n",
      "0 2008-01-02  84.860001\n",
      "1 2008-01-03  85.570000\n",
      "2 2008-01-04  85.129997\n",
      "3 2008-01-07  84.769997\n",
      "4 2008-01-08  86.779999\n"
     ]
    }
   ],
   "source": [
    "df = data[['Date', 'GLD']].copy()\n",
    "df['Date'] = pd.to_datetime(df['Date'])\n",
    "print(df.head())"
   ]
  },
  {
   "cell_type": "code",
   "execution_count": 4,
   "metadata": {},
   "outputs": [
    {
     "data": {
      "text/html": [
       "<div>\n",
       "<style scoped>\n",
       "    .dataframe tbody tr th:only-of-type {\n",
       "        vertical-align: middle;\n",
       "    }\n",
       "\n",
       "    .dataframe tbody tr th {\n",
       "        vertical-align: top;\n",
       "    }\n",
       "\n",
       "    .dataframe thead th {\n",
       "        text-align: right;\n",
       "    }\n",
       "</style>\n",
       "<table border=\"1\" class=\"dataframe\">\n",
       "  <thead>\n",
       "    <tr style=\"text-align: right;\">\n",
       "      <th></th>\n",
       "      <th>Date</th>\n",
       "      <th>GLD</th>\n",
       "    </tr>\n",
       "  </thead>\n",
       "  <tbody>\n",
       "    <tr>\n",
       "      <th>0</th>\n",
       "      <td>2008-01-02</td>\n",
       "      <td>84.860001</td>\n",
       "    </tr>\n",
       "    <tr>\n",
       "      <th>1</th>\n",
       "      <td>2008-01-03</td>\n",
       "      <td>85.570000</td>\n",
       "    </tr>\n",
       "    <tr>\n",
       "      <th>2</th>\n",
       "      <td>2008-01-04</td>\n",
       "      <td>85.129997</td>\n",
       "    </tr>\n",
       "    <tr>\n",
       "      <th>3</th>\n",
       "      <td>2008-01-05</td>\n",
       "      <td>85.009997</td>\n",
       "    </tr>\n",
       "    <tr>\n",
       "      <th>4</th>\n",
       "      <td>2008-01-06</td>\n",
       "      <td>84.889997</td>\n",
       "    </tr>\n",
       "    <tr>\n",
       "      <th>5</th>\n",
       "      <td>2008-01-07</td>\n",
       "      <td>84.769997</td>\n",
       "    </tr>\n",
       "    <tr>\n",
       "      <th>6</th>\n",
       "      <td>2008-01-08</td>\n",
       "      <td>86.779999</td>\n",
       "    </tr>\n",
       "    <tr>\n",
       "      <th>7</th>\n",
       "      <td>2008-01-09</td>\n",
       "      <td>86.550003</td>\n",
       "    </tr>\n",
       "    <tr>\n",
       "      <th>8</th>\n",
       "      <td>2008-01-10</td>\n",
       "      <td>88.250000</td>\n",
       "    </tr>\n",
       "    <tr>\n",
       "      <th>9</th>\n",
       "      <td>2008-01-11</td>\n",
       "      <td>88.580002</td>\n",
       "    </tr>\n",
       "  </tbody>\n",
       "</table>\n",
       "</div>"
      ],
      "text/plain": [
       "        Date        GLD\n",
       "0 2008-01-02  84.860001\n",
       "1 2008-01-03  85.570000\n",
       "2 2008-01-04  85.129997\n",
       "3 2008-01-05  85.009997\n",
       "4 2008-01-06  84.889997\n",
       "5 2008-01-07  84.769997\n",
       "6 2008-01-08  86.779999\n",
       "7 2008-01-09  86.550003\n",
       "8 2008-01-10  88.250000\n",
       "9 2008-01-11  88.580002"
      ]
     },
     "execution_count": 4,
     "metadata": {},
     "output_type": "execute_result"
    }
   ],
   "source": [
    "def fill_missing_values(df, column):\n",
    "    # Lặp qua từng giá trị trong cột, tìm các giá trị thiếu (NaN)\n",
    "    for idx in range(1, len(df) - 1):\n",
    "        if pd.isna(df.loc[idx, column]):\n",
    "            # Tìm giá trị trước đó không bị thiếu\n",
    "            prev_idx = idx - 1\n",
    "            while prev_idx >= 0 and pd.isna(df.loc[prev_idx, column]):\n",
    "                prev_idx -= 1\n",
    "            \n",
    "            # Tìm giá trị sau đó không bị thiếu\n",
    "            next_idx = idx + 1\n",
    "            while next_idx < len(df) and pd.isna(df.loc[next_idx, column]):\n",
    "                next_idx += 1\n",
    "\n",
    "            # Nếu tìm được giá trị trước và sau, áp dụng công thức nội suy\n",
    "            if prev_idx >= 0 and next_idx < len(df):\n",
    "                a_value = df.loc[prev_idx, column]\n",
    "                b_value = df.loc[next_idx, column]\n",
    "                index_a = prev_idx\n",
    "                index_b = next_idx\n",
    "                index_x = idx\n",
    "\n",
    "                # Công thức nội suy tuyến tính\n",
    "                x_value = a_value + (index_x - index_a) / (index_b - index_a) * (b_value - a_value)\n",
    "                \n",
    "                # Điền giá trị đã tính vào vị trí thiếu\n",
    "                df.loc[idx, column] = x_value\n",
    "\n",
    "    return df\n",
    "    \n",
    "def fill_missing_values_date(df, date, column):\n",
    "    # Tạo DataFrame với tất cả các ngày (bao gồm cả thứ 7, chủ nhật)\n",
    "    all_days = pd.date_range(start=df[date].min(), end=df[date].max(), freq='D')\n",
    "    df_all = pd.DataFrame({date: all_days})\n",
    "    \n",
    "    # Kết hợp dữ liệu gốc với DataFrame chứa tất cả các ngày\n",
    "    df_merged = pd.merge(df_all, df, on=date, how='left')\n",
    "    df_merged['index'] = range(1, len(df_merged) + 1)\n",
    "    df_merged = fill_missing_values(df_merged, column)\n",
    "    df_merged = df_merged.drop(columns=['index'])\n",
    "    return df_merged\n",
    "\n",
    "df = fill_missing_values_date(df, 'Date', 'GLD')\n",
    "df.head(10)"
   ]
  },
  {
   "cell_type": "markdown",
   "metadata": {},
   "source": [
    "## Nên vẽ đồ thị trước và sau khi xử lý để ta có thể thấy được sự khác biệt"
   ]
  },
  {
   "cell_type": "code",
   "execution_count": 5,
   "metadata": {},
   "outputs": [],
   "source": [
    "df.set_index('Date', inplace=True)"
   ]
  },
  {
   "cell_type": "code",
   "execution_count": 6,
   "metadata": {},
   "outputs": [
    {
     "data": {
      "image/png": "[encoded data removed]",
      "text/plain": [
       "<Figure size 1500x800 with 1 Axes>"
      ]
     },
     "metadata": {},
     "output_type": "display_data"
    }
   ],
   "source": [
    "# Visualize the data\n",
    "plt.figure(figsize=(15, 8))\n",
    "plt.plot(df.index, df['GLD'], label='Closing Price')\n",
    "plt.xlabel('Date')\n",
    "plt.ylabel('Closing Price')\n",
    "plt.title('Gold Closing Prices Over Time')\n",
    "plt.legend()\n",
    "plt.show()"
   ]
  },
  {
   "cell_type": "code",
   "execution_count": 7,
   "metadata": {},
   "outputs": [],
   "source": [
    "data = df.values.flatten()"
   ]
  },
  {
   "cell_type": "code",
   "execution_count": 8,
   "metadata": {},
   "outputs": [],
   "source": [
    "#data = data[:100]"
   ]
  },
  {
   "cell_type": "code",
   "execution_count": 9,
   "metadata": {},
   "outputs": [
    {
     "data": {
      "text/plain": [
       "3788"
      ]
     },
     "execution_count": 9,
     "metadata": {},
     "output_type": "execute_result"
    }
   ],
   "source": [
    "len(data)"
   ]
  },
  {
   "cell_type": "markdown",
   "metadata": {},
   "source": [
    "# Chuẩn hóa dữ liệu"
   ]
  },
  {
   "cell_type": "code",
   "execution_count": 10,
   "metadata": {},
   "outputs": [],
   "source": [
    "scaler = MinMaxScaler()  \n",
    "\n",
    "data_scaled = scaler.fit_transform(data.reshape(-1, 1))\n",
    "data = data_scaled.flatten()"
   ]
  },
  {
   "cell_type": "markdown",
   "metadata": {},
   "source": [
    "# Hàm tính đánh giá\n",
    "## Có thể rút gọn đoạn code sau do không cần khai báo một lớp và gộp 2 hàm thành 1 hàm"
   ]
  },
  {
   "cell_type": "code",
   "execution_count": 11,
   "metadata": {},
   "outputs": [],
   "source": [
    "class Metrics:  \n",
    "    def __init__(self, mse, rmse, mae, r2):  \n",
    "        self.mse = mse  \n",
    "        self.rmse = rmse  \n",
    "        self.mae = mae \n",
    "        self.r2 = r2 \n",
    "\n",
    "        \n",
    "def calculate_metrics(test, predictions):  \n",
    "    mse = mean_squared_error(test, predictions)  \n",
    "    rmse = np.sqrt(mse)  \n",
    "    mae = mean_absolute_error(test, predictions)  \n",
    "    r2 = r2_score(test, predictions)  \n",
    "    \n",
    "    # Tạo đối tượng metrics  \n",
    "    metrics = Metrics(mse=mse, rmse=rmse, mae=mae, r2=r2)  \n",
    "    return metrics\n",
    "\n",
    "def print_metrics(model_name, metrics):  \n",
    "    print(f'Model: {model_name}')  \n",
    "    print(f'MSE: {metrics.mse:.4f}')  \n",
    "    print(f'RMSE: {metrics.rmse:.4f}')  \n",
    "    print(f'MAE: {metrics.mae:.4f}')  \n",
    "    print(f'R²: {metrics.r2:.4f}') "
   ]
  },
  {
   "cell_type": "markdown",
   "metadata": {},
   "source": [
    "# Chia dữ liệu"
   ]
  },
  {
   "cell_type": "code",
   "execution_count": 13,
   "metadata": {},
   "outputs": [],
   "source": [
    "train_size = int(len(data) * 0.8)  \n",
    "train, test = data[:train_size], data[train_size:]"
   ]
  },
  {
   "cell_type": "markdown",
   "metadata": {},
   "source": [
    "# ARIMA"
   ]
  },
  {
   "cell_type": "code",
   "execution_count": 12,
   "metadata": {},
   "outputs": [],
   "source": [
    "def run_arima(train, test):  \n",
    "    # Tìm tham số tốt nhất bằng pm.auto_arima  \n",
    "    arima_model = pm.auto_arima(train, \n",
    "                          start_p=1, start_q=1,\n",
    "                          max_p=7, max_q=7,\n",
    "                          start_d=0, max_d=5,\n",
    "                          seasonal=False,\n",
    "                          trace=True,\n",
    "                          stepwise=True) \n",
    "    \n",
    "    # Lấy giá trị p, d, q  \n",
    "    p, d, q = arima_model.order  \n",
    "    print(f'Optimal order: p={p}, d={d}, q={q}')\n",
    "\n",
    "    # Huấn luyện mô hình trên dữ liệu huấn luyện  \n",
    "    model = ARIMA(train, order=(p, d, q))\n",
    "    fitted_model = model.fit()  \n",
    "    \n",
    "    # Dự đoán giá trị cho train[10:]\n",
    "    start_index = 10  # Chỉ số bắt đầu bỏ 10 giá trị đầu cho train  \n",
    "    end_index = len(train) - 1  # Chỉ số cuối cùng trong tập huấn luyện\n",
    "    train_predictions = fitted_model.predict(start=start_index, end=end_index) \n",
    "    \n",
    "    # Dự đoán giá trị cho test \n",
    "    history = [x for x in train]\n",
    "    test_predictions = []\n",
    "\n",
    "    for t in range(len(test)):\n",
    "        model = ARIMA(history, order=(p, d, q))\n",
    "        model_fit = model.fit()\n",
    "        output = model_fit.forecast()\n",
    "        yhat = output[0]\n",
    "        test_predictions.append(yhat)\n",
    "        obs = test[t]\n",
    "        history.append(obs)\n",
    "    \n",
    "    test_predictions = np.array(test_predictions)\n",
    "    \n",
    "    # Đánh giá\n",
    "    train_metrics = calculate_metrics(train[start_index:], train_predictions)\n",
    "    test_metrics = calculate_metrics(test, test_predictions)\n",
    "    \n",
    "    return arima_model, train[start_index:], test, train_predictions, test_predictions, train_metrics, test_metrics  "
   ]
  },
  {
   "cell_type": "code",
   "execution_count": 14,
   "metadata": {
    "scrolled": true
   },
   "outputs": [
    {
     "name": "stdout",
     "output_type": "stream",
     "text": [
      "Performing stepwise search to minimize aic\n",
      " ARIMA(1,1,1)(0,0,0)[0] intercept   : AIC=-19656.648, Time=1.96 sec\n",
      " ARIMA(0,1,0)(0,0,0)[0] intercept   : AIC=-19633.145, Time=0.43 sec\n",
      " ARIMA(1,1,0)(0,0,0)[0] intercept   : AIC=-19653.770, Time=0.28 sec\n",
      " ARIMA(0,1,1)(0,0,0)[0] intercept   : AIC=-19651.573, Time=1.03 sec\n",
      " ARIMA(0,1,0)(0,0,0)[0]             : AIC=-19634.842, Time=0.26 sec\n",
      " ARIMA(2,1,1)(0,0,0)[0] intercept   : AIC=-19657.266, Time=2.55 sec\n",
      " ARIMA(2,1,0)(0,0,0)[0] intercept   : AIC=-19659.262, Time=1.43 sec\n",
      " ARIMA(3,1,0)(0,0,0)[0] intercept   : AIC=-19657.313, Time=1.17 sec\n",
      " ARIMA(3,1,1)(0,0,0)[0] intercept   : AIC=-19655.331, Time=2.71 sec\n",
      " ARIMA(2,1,0)(0,0,0)[0]             : AIC=-19661.029, Time=0.66 sec\n",
      " ARIMA(1,1,0)(0,0,0)[0]             : AIC=-19655.514, Time=0.35 sec\n",
      " ARIMA(3,1,0)(0,0,0)[0]             : AIC=-19659.082, Time=1.65 sec\n",
      " ARIMA(2,1,1)(0,0,0)[0]             : AIC=-19659.032, Time=0.50 sec\n",
      " ARIMA(1,1,1)(0,0,0)[0]             : AIC=-19658.410, Time=2.28 sec\n",
      " ARIMA(3,1,1)(0,0,0)[0]             : AIC=-19657.100, Time=0.74 sec\n",
      "\n",
      "Best model:  ARIMA(2,1,0)(0,0,0)[0]          \n",
      "Total fit time: 18.032 seconds\n",
      "Optimal order: p=2, d=1, q=0\n"
     ]
    }
   ],
   "source": [
    "model_arima, train_arima, test_arima, train_pre_arima, test_pre_arima, train_metrics_arima, test_metrics_arima = run_arima(train, test)"
   ]
  },
  {
   "cell_type": "code",
   "execution_count": 15,
   "metadata": {},
   "outputs": [
    {
     "name": "stdout",
     "output_type": "stream",
     "text": [
      "Model: ARIMA\n",
      "MSE: 0.0000\n",
      "RMSE: 0.0055\n",
      "MAE: 0.0037\n",
      "R²: 0.9827\n"
     ]
    }
   ],
   "source": [
    "print_metrics(\"ARIMA\", test_metrics_arima)"
   ]
  },
  {
   "cell_type": "markdown",
   "metadata": {},
   "source": [
    "# Tính phần dư"
   ]
  },
  {
   "cell_type": "code",
   "execution_count": 16,
   "metadata": {},
   "outputs": [],
   "source": [
    "train_ffnn = train_arima - train_pre_arima\n",
    "test_ffnn = test_arima - test_pre_arima"
   ]
  },
  {
   "cell_type": "markdown",
   "metadata": {},
   "source": [
    "# FFNN"
   ]
  },
  {
   "cell_type": "code",
   "execution_count": 17,
   "metadata": {},
   "outputs": [],
   "source": [
    "def create_dataset(dataset, time_step):\n",
    "    X, y = [], []\n",
    "    for i in range(len(dataset) - time_step):\n",
    "        X.append(dataset[i:(i + time_step)])\n",
    "        y.append(dataset[i + time_step])\n",
    "    return np.array(X), np.array(y)\n",
    "\n",
    "time_step = 7\n",
    "\n",
    "test_temp = np.concatenate((train_ffnn[-time_step:], test_ffnn))\n",
    "\n",
    "X_train, y_train = create_dataset(train_ffnn, time_step)\n",
    "X_test , y_test  = create_dataset(test_temp, time_step)"
   ]
  },
  {
   "cell_type": "code",
   "execution_count": 50,
   "metadata": {},
   "outputs": [],
   "source": [
    "def create_model_ffnn(hidden_layers=1, neurons=50, activation='relu', input_shape=(5,), learning_rate=0.001):\n",
    "    model = Sequential()\n",
    "    # Thêm Input layer\n",
    "    model.add(Input(shape=input_shape))\n",
    "    model.add(Dense(neurons, activation=activation))\n",
    "    \n",
    "    for _ in range(hidden_layers - 1):\n",
    "        model.add(Dense(neurons, activation=activation))\n",
    "    \n",
    "    model.add(Dense(1))  # Lớp đầu ra\n",
    "    optimizer = Adam(learning_rate=learning_rate)  \n",
    "    model.compile(optimizer=optimizer, loss='mean_squared_error')\n",
    "    return model"
   ]
  },
  {
   "cell_type": "code",
   "execution_count": 59,
   "metadata": {},
   "outputs": [],
   "source": [
    "def run_ffnn(X_train, y_train, X_test, y_test):  \n",
    "    # Tạo mô hình  \n",
    "    model = KerasRegressor(model=create_model_ffnn, input_shape=(X_train.shape[1],))  \n",
    "    \n",
    "    param_grid = {\n",
    "        'model__hidden_layers': [1, 2, 3],\n",
    "        'model__neurons': [50, 70, 100, 120],\n",
    "        'model__activation': ['relu', 'sigmoid', 'tanh'],\n",
    "        'batch_size': [3, 5, 7, 10, 16, 32],      # Batch size for KerasRegressor\n",
    "        'epochs': [100, 200],\n",
    "        'model__learning_rate': [0.001, 0.01, 0.05]\n",
    "    }\n",
    "    \n",
    "    # Perform GridSearchCV for each time_step\n",
    "    grid = GridSearchCV(estimator=model, param_grid=param_grid, cv=3, scoring='neg_mean_squared_error', verbose=1, n_jobs = -1)\n",
    "    grid_result = grid.fit(X_train, y_train)\n",
    "    \n",
    "    # Bước 6: In các thông số tốt nhất  \n",
    "    print(\"Tham số tốt nhất:\", grid_result.best_params_)  \n",
    "    print(\"Điểm số tốt nhất:\", grid_result.best_score_) \n",
    "\n",
    "    best_model = grid_result.best_estimator_  \n",
    "    predictions = best_model.predict(X_test)  \n",
    "\n",
    "    # Đánh giá mô hình  \n",
    "    metrics = calculate_metrics(y_test, predictions)  \n",
    "    \n",
    "    predictions = predictions.flatten()\n",
    "\n",
    "    return best_model, metrics, predictions"
   ]
  },
  {
   "cell_type": "code",
   "execution_count": null,
   "metadata": {
    "scrolled": true
   },
   "outputs": [
    {
     "name": "stdout",
     "output_type": "stream",
     "text": [
      "Fitting 3 folds for each of 1296 candidates, totalling 3888 fits\n"
     ]
    },
    {
     "name": "stderr",
     "output_type": "stream",
     "text": [
      "D:\\Anaconda\\Lib\\site-packages\\joblib\\externals\\loky\\process_executor.py:752: UserWarning: A worker stopped while some jobs were given to the executor. This can be caused by a too short worker timeout or by a memory leak.\n",
      "  warnings.warn(\n"
     ]
    }
   ],
   "source": [
    "model_ffnn, metrics_ffnn, test_pre_ffnn = run_ffnn(X_train, y_train, X_test, y_test)"
   ]
  },
  {
   "cell_type": "raw",
   "metadata": {},
   "source": [
    "def run_ffnn(X_train, y_train, X_test, y_test, hidden_layers=1, neurons=50, activation='relu', epochs=100, batch_size=32, learning_rate=0.001):  \n",
    "    # Tạo mô hình  \n",
    "    model = create_model_ffnn(hidden_layers, neurons, activation, input_shape=(X_train.shape[1],), learning_rate=learning_rate)  \n",
    "\n",
    "    # Huấn luyện mô hình  \n",
    "    model.fit(X_train, y_train, epochs=epochs, batch_size=batch_size, verbose=1)  \n",
    "\n",
    "    # Dự đoán  \n",
    "    predictions = model.predict(X_test)  \n",
    "\n",
    "    # Đánh giá mô hình  \n",
    "    metrics = calculate_metrics(y_test, predictions)  \n",
    "    \n",
    "    predictions = predictions.flatten()\n",
    "\n",
    "    return metrics, predictions"
   ]
  },
  {
   "cell_type": "raw",
   "metadata": {
    "scrolled": true
   },
   "source": [
    "hidden_layers=2\n",
    "neurons=70\n",
    "activation='relu'\n",
    "epochs=100\n",
    "batch_size=5\n",
    "learning_rate=0.001\n",
    "\n",
    "metrics_ffnn, test_pre_ffnn = run_ffnn(X_train, y_train, X_test, y_test, hidden_layers=hidden_layers, neurons=neurons, activation=activation, epochs=epochs, batch_size=batch_size, learning_rate=learning_rate)"
   ]
  },
  {
   "cell_type": "markdown",
   "metadata": {},
   "source": [
    "# Tính dự đoán lai ghép"
   ]
  },
  {
   "cell_type": "code",
   "execution_count": null,
   "metadata": {},
   "outputs": [],
   "source": [
    "predictions = test_pre_arima + test_pre_ffnn"
   ]
  },
  {
   "cell_type": "markdown",
   "metadata": {},
   "source": [
    "# Đánh giá"
   ]
  },
  {
   "cell_type": "code",
   "execution_count": null,
   "metadata": {},
   "outputs": [],
   "source": [
    "print_metrics(\"ARIMA\", test_metrics_arima)\n",
    "print(\"\\n\")\n",
    "print_metrics(\"FFNN\", metrics_ffnn)\n",
    "print(\"\\n\")\n",
    "\n",
    "metrics1 = calculate_metrics(test, predictions) \n",
    "print_metrics(\"Lai ghép ARIMA_FFNN (chưa chuẩn hóa ngược lại):\", metrics1)\n",
    "print(\"\\n\")\n",
    "\n",
    "predictions_inverse = scaler.inverse_transform(predictions.reshape(-1, 1))\n",
    "predictions_inverse = predictions_inverse.flatten()\n",
    "\n",
    "test_inverse = scaler.inverse_transform(test.reshape(-1, 1))\n",
    "test_inverse = test_inverse.flatten()\n",
    "\n",
    "metrics2 = calculate_metrics(test_inverse, predictions_inverse) \n",
    "\n",
    "print_metrics(\"Lai ghép ARIMA_FFNN (đã chuẩn hóa ngược lại)\", metrics2)"
   ]
  },
  {
   "cell_type": "code",
   "execution_count": null,
   "metadata": {},
   "outputs": [],
   "source": []
  }
 ],
 "metadata": {
  "kernelspec": {
   "display_name": "Python 3 (ipykernel)",
   "language": "python",
   "name": "python3"
  },
  "language_info": {
   "codemirror_mode": {
    "name": "ipython",
    "version": 3
   },
   "file_extension": ".py",
   "mimetype": "text/x-python",
   "name": "python",
   "nbconvert_exporter": "python",
   "pygments_lexer": "ipython3",
   "version": "3.12.4"
  }
 },
 "nbformat": 4,
 "nbformat_minor": 4
}
