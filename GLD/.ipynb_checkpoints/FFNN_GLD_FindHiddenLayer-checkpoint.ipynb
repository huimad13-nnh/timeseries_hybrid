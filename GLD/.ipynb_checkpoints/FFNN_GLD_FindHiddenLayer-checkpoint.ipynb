{
 "cells": [
  {
   "cell_type": "code",
   "execution_count": null,
   "metadata": {
    "vscode": {
     "languageId": "plaintext"
    }
   },
   "outputs": [],
   "source": [
    "import pandas as pd\n",
    "import numpy as np\n",
    "import warnings\n",
    "warnings.filterwarnings('ignore')\n",
    "from numpy import sqrt \n",
    "import time\n",
    "\n",
    "#Tien Xu Ly\n",
    "from sklearn.preprocessing import MinMaxScaler\n",
    "\n",
    "#Draw Flot\n",
    "import matplotlib.pyplot as plt\n",
    "\n",
    "#Cacuale error\n",
    "from sklearn.metrics import mean_squared_error\n",
    "from sklearn.metrics import mean_absolute_error\n",
    "from sklearn.metrics import mean_absolute_percentage_error\n",
    "\n",
    "#distance Libaray\n",
    "from dtw import *\n",
    "from scipy.spatial.distance import euclidean\n",
    "from fastdtw import fastdtw\n",
    "from scipy.spatial.distance import cityblock\n",
    "\n",
    "#FFNN Libarary\n",
    "from keras.models import Sequential\n",
    "from keras.layers import Dense\n",
    "from keras.callbacks import EarlyStopping\n",
    "from sklearn.model_selection import GridSearchCV\n",
    "from scikeras.wrappers import KerasRegressor"
   ]
  }
 ],
 "metadata": {
  "language_info": {
   "name": "python"
  }
 },
 "nbformat": 4,
 "nbformat_minor": 2
}
